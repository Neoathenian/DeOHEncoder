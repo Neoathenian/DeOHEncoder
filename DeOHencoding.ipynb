{
 "cells": [
  {
   "cell_type": "code",
   "execution_count": 1,
   "metadata": {},
   "outputs": [],
   "source": [
    "import seaborn as sns\n",
    "\n",
    "tips = sns.load_dataset('tips')"
   ]
  },
  {
   "cell_type": "code",
   "execution_count": 3,
   "metadata": {},
   "outputs": [],
   "source": [
    "import pandas as pd\n",
    "import numpy as np"
   ]
  },
  {
   "cell_type": "code",
   "execution_count": 5,
   "metadata": {},
   "outputs": [],
   "source": [
    "tips_OH=pd.get_dummies(tips)"
   ]
  },
  {
   "cell_type": "code",
   "execution_count": 8,
   "metadata": {},
   "outputs": [],
   "source": [
    "def DeOH_column(df,column):\n",
    "    \"\"\"Tries to find all the columns of the original dataframe, os numerical+De_OH_encoded\"\"\"\n",
    "    cols=df.columns\n",
    "    i=list(cols).index(column)\n",
    "    future_colnames=[]\n",
    "  \n",
    "    pos=findall(\"_\",column)       \n",
    "    if pos==[-1]:       \n",
    "        #future_colnames.append(column) We don´t do this to avoid the ones that haven´t been OH encoded       \n",
    "        return column       \n",
    "\n",
    "    names=[column[:p] for p in pos]       \n",
    "    name_final=\"\"       \n",
    "    for name in names:       \n",
    "        possible_columns=[]       \n",
    "        long=len(name)       \n",
    "        for j in range(len(cols)):       \n",
    "            if j==i:       \n",
    "                continue       \n",
    "            if name==cols[j][:long]:       \n",
    "                #If the column isn´t actually followed by a _ we don´t want it (if it´s the exact length it might be the original column (which shouldn´t be there anyways))       \n",
    "                if len(cols[j])>long:       \n",
    "                    if cols[j][long]!=\"_\":       \n",
    "                        continue       \n",
    "                possible_columns.append(cols[j])       \n",
    "        if len(possible_columns)>=1:       \n",
    "            name_final=name       \n",
    "        if name_final not in future_colnames and name_final!=\"\":       \n",
    "            future_colnames.append(name_final)       \n",
    " \n",
    "    if len(future_colnames)>1:\n",
    "        print(\"column\",column,\"future_colnames\",future_colnames)\n",
    "        raise(Exception(\"Error, there should only be one column that matches the name of the interaction\"))\n",
    "   \n",
    "    if len(future_colnames)==0:\n",
    "        if len(names)==1:\n",
    "            return names[0]\n",
    "        else:\n",
    "            print(\"column\",column,\"possible_names\",names)\n",
    "            raise(Exception(\"Error, there´s nothing to match with and it has multiple '_'\"))          \n",
    " \n",
    "    return future_colnames[0]"
   ]
  },
  {
   "cell_type": "code",
   "execution_count": 22,
   "metadata": {},
   "outputs": [],
   "source": [
    "def Detect_OHcols(columns_df):\n",
    "    future_colnames=[]\n",
    "    for i in range(len(columns_df)):\n",
    "        pos=findall(\"_\",columns_df[i])\n",
    "        if pos==[-1]:\n",
    "            future_colnames.append(columns_df[i])\n",
    "            continue\n",
    "        \n",
    "        names=[columns_df[i][:p] for p in pos]\n",
    "        #We´re gonna go over all the possibilities, so each round we´ve got a longer name\n",
    "        #We are gonna assume that the longest possible name is the correct name\n",
    "        name_final=\"\"\n",
    "        for name in names:\n",
    "            Has_a_match=False#possible_columns=[]\n",
    "            long=len(name)\n",
    "            for j in range(len(columns_df)):\n",
    "                #We can´t check ourselves because we would just return our own OH encoded name\n",
    "                if j==i:       \n",
    "                    continue \n",
    "                if name==columns_df[j][:long]:\n",
    "                    #If the column isn´t actually followed by a _ we don´t want it (we´re looking for other OH encoded like us, which if it exists it´ll be followed by a _)       \n",
    "                    if len(columns_df[j])>long:       \n",
    "                        if columns_df[j][long]!=\"_\":       \n",
    "                            continue  \n",
    "                    Has_a_match=True#possible_columns.append(columns_df[j])\n",
    "            if Has_a_match:#len(possible_columns)>=1:\n",
    "                name_final=name\n",
    "            #It´s possible that we´re alone as it´s a binary and drop first-> we take the longest name\n",
    "        if name_final not in future_colnames and name_final!=\"\":\n",
    "            future_colnames.append(name_final)\n",
    "        #It´s possible that we don´t find a match, and most likely it´s because we´re dealing with a numerical (not OH)\n",
    "        if name_final==\"\" and columns_df[i] not in future_colnames:\n",
    "            future_colnames.append(columns_df[i])\n",
    "\n",
    "\n",
    "    return future_colnames"
   ]
  },
  {
   "cell_type": "code",
   "execution_count": 9,
   "metadata": {},
   "outputs": [],
   "source": [
    "def DeOneHotEncodeColumn(df,colname):\n",
    "    \"\"\"This function decodes onehotencoded columns that start with colname (and eliminates those columns)\"\"\"\n",
    "\n",
    "    #These are the columns we think are onehotencoded\n",
    "    cols_tryout=[col for col in df.columns if colname+\"_\"==col[:len(colname)+1]]\n",
    "    #The cols from cols_tryout aren´t necessarily binary, so we´ll check\n",
    "    cols=[]\n",
    "    for col in cols_tryout:\n",
    "        EsBin=True\n",
    "        i=0\n",
    "        #This other version I think could be faster when there are only ones and 0s faster (python faster on vector ops)\n",
    "        #unicos=df[col].unique()\n",
    "        #if len(unicos)<=2:\n",
    "        #    for a in unicos:\n",
    "        #        if a not in [0,1]:\n",
    "        #            EsBin=False\n",
    "\n",
    "        while EsBin and i<df.shape[0]:\n",
    "            if df[col][i]!=0 and df[col][i]!=1:\n",
    "                EsBin=False\n",
    "            i+=1\n",
    "        if EsBin:\n",
    "            cols.append(col)\n",
    "    #If there aren´t at least 2 binary columns... what are u doing lol\n",
    "    if len(cols)<2:\n",
    "        return df\n",
    "    sol=np.array([\"\" for i in range(df.shape[0])],dtype=\"object\")\n",
    "    #Let´s get the output of our decoded column ()\n",
    "    for col in cols:\n",
    "        sol+=np.array([col[len(colname)+1:] if x else \"\" for x in df[col]],dtype=\"object\")\n",
    "\n",
    "    #Let´s drop the columns we used and put the decoded column in place :)\n",
    "    df[colname]=sol\n",
    "    df=df.drop(cols,axis=1)\n",
    "    return df"
   ]
  },
  {
   "cell_type": "code",
   "execution_count": 10,
   "metadata": {},
   "outputs": [],
   "source": [
    "#Finds all the positions where char is in word\n",
    "def findall(char,word):\n",
    "    pos=[word.find(char)]\n",
    "    suma=pos[0]+1\n",
    "    while pos[-1]!=-1:\n",
    "        pos.append(word[suma:].find(char))\n",
    "        suma+=pos[-1]+1#(hay que sumar 1 por el \"_\" que hay que borrar)\n",
    "    if pos[0]==-1:\n",
    "        return pos\n",
    "    pos=pos[:-1]\n",
    "    suma=pos[0]\n",
    "    for i in range(1,len(pos)):\n",
    "        suma+=pos[i]+1#Hay que sumar 1 por los arrays empiezan en 0)\n",
    "        pos[i]=suma\n",
    "    return pos"
   ]
  },
  {
   "cell_type": "code",
   "execution_count": 11,
   "metadata": {},
   "outputs": [],
   "source": [
    "#This function detects all the possible columns that have been one hot encoded, it does so by checking for _\n",
    "#This is because when creating a OH of \"EVENT\" we get columns such as EVENT_SPAIN, EVENT_FRANCE....\n",
    "#Since the column we´re looking for is EVENT_TYPE, we´re gonna make sure to be able to get the longest string that ends in _\n",
    "#And that is at the beginning of multiple column names\n",
    "def Detect_OHcols(df):\n",
    "    cols=df.columns\n",
    "    future_colnames=[]\n",
    "    for i in range(len(cols)):\n",
    "        pos=findall(\"_\",cols[i])\n",
    "        names=[cols[i][:p] for p in pos]\n",
    "        name_final=\"\"\n",
    "        for name in names:\n",
    "            possible_columns=[]\n",
    "            long=len(name)\n",
    "            for j in range(i+1,len(cols)):\n",
    "                if name==cols[j][:long]:\n",
    "                    possible_columns.append(cols[j])\n",
    "            if len(possible_columns)>=1:\n",
    "                name_final=name\n",
    "            if name_final not in future_colnames and name_final!=\"\":\n",
    "                future_colnames.append(name_final)\n",
    "\n",
    "    return future_colnames"
   ]
  },
  {
   "cell_type": "code",
   "execution_count": 12,
   "metadata": {},
   "outputs": [],
   "source": [
    "#We´re gonna detect the columns, sort their names so that EVENT_TYPE is done before EVENT...and done :)\n",
    "def DeOneHotEncode(df,exclude=[]):\n",
    "    cols=pd.Series(Detect_OHcols(df))\n",
    "    cols=cols.sort_values(ascending=False)\n",
    "    for col in cols:\n",
    "        if col not in exclude:\n",
    "            df=DeOneHotEncodeColumn(df,col)\n",
    "    return df"
   ]
  },
  {
   "cell_type": "code",
   "execution_count": 23,
   "metadata": {},
   "outputs": [
    {
     "data": {
      "text/plain": [
       "['total_bill', 'tip', 'size', 'sex', 'smoker', 'day', 'time']"
      ]
     },
     "execution_count": 23,
     "metadata": {},
     "output_type": "execute_result"
    }
   ],
   "source": [
    "Detect_OHcols(tips_OH.columns)"
   ]
  },
  {
   "cell_type": "code",
   "execution_count": 24,
   "metadata": {},
   "outputs": [
    {
     "data": {
      "text/plain": [
       "Index(['total_bill', 'tip', 'sex', 'smoker', 'day', 'time', 'size'], dtype='object')"
      ]
     },
     "execution_count": 24,
     "metadata": {},
     "output_type": "execute_result"
    }
   ],
   "source": [
    "tips.columns"
   ]
  }
 ],
 "metadata": {
  "associatedRecipe": "compute_Joined_scores_DeOH",
  "createdOn": 1661413828042,
  "creationTag": {
   "lastModifiedBy": {
    "login": "mariana.nastase@groupama.ro"
   },
   "lastModifiedOn": 1661413828042,
   "versionNumber": 0
  },
  "creator": "mariana.nastase@groupama.ro",
  "customFields": {},
  "dkuGit": {
   "lastInteraction": 0
  },
  "kernelspec": {
   "display_name": "Python 3 (ipykernel)",
   "language": "python",
   "name": "python3"
  },
  "language_info": {
   "codemirror_mode": {
    "name": "ipython",
    "version": 3
   },
   "file_extension": ".py",
   "mimetype": "text/x-python",
   "name": "python",
   "nbconvert_exporter": "python",
   "pygments_lexer": "ipython3",
   "version": "3.10.9"
  },
  "tags": [
   "recipe-editor"
  ]
 },
 "nbformat": 4,
 "nbformat_minor": 1
}
